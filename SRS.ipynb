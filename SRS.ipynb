{
 "cells": [
  {
   "cell_type": "code",
   "execution_count": 245,
   "metadata": {},
   "outputs": [],
   "source": [
    "import pandas  as pd\n",
    "import matplotlib.pyplot as plt\n",
    "import numpy as np\n"
   ]
  },
  {
   "cell_type": "code",
   "execution_count": 246,
   "metadata": {},
   "outputs": [
    {
     "data": {
      "text/html": [
       "<div>\n",
       "<style scoped>\n",
       "    .dataframe tbody tr th:only-of-type {\n",
       "        vertical-align: middle;\n",
       "    }\n",
       "\n",
       "    .dataframe tbody tr th {\n",
       "        vertical-align: top;\n",
       "    }\n",
       "\n",
       "    .dataframe thead th {\n",
       "        text-align: right;\n",
       "    }\n",
       "</style>\n",
       "<table border=\"1\" class=\"dataframe\">\n",
       "  <thead>\n",
       "    <tr style=\"text-align: right;\">\n",
       "      <th></th>\n",
       "      <th>Country or Area</th>\n",
       "      <th>Year</th>\n",
       "      <th>Area</th>\n",
       "      <th>Sex</th>\n",
       "      <th>Age</th>\n",
       "      <th>Record Type</th>\n",
       "      <th>Reliability</th>\n",
       "      <th>Source Year</th>\n",
       "      <th>Value</th>\n",
       "      <th>Value Footnotes</th>\n",
       "    </tr>\n",
       "  </thead>\n",
       "  <tbody>\n",
       "    <tr>\n",
       "      <th>0</th>\n",
       "      <td>Lithuania</td>\n",
       "      <td>2019</td>\n",
       "      <td>Total</td>\n",
       "      <td>Both Sexes</td>\n",
       "      <td>Total</td>\n",
       "      <td>Estimate - de jure</td>\n",
       "      <td>Final figure, complete</td>\n",
       "      <td>2020.0</td>\n",
       "      <td>2794184.0</td>\n",
       "      <td>1.0</td>\n",
       "    </tr>\n",
       "    <tr>\n",
       "      <th>1</th>\n",
       "      <td>Lithuania</td>\n",
       "      <td>2019</td>\n",
       "      <td>Total</td>\n",
       "      <td>Both Sexes</td>\n",
       "      <td>0</td>\n",
       "      <td>Estimate - de jure</td>\n",
       "      <td>Final figure, complete</td>\n",
       "      <td>2020.0</td>\n",
       "      <td>28166.0</td>\n",
       "      <td>1.0</td>\n",
       "    </tr>\n",
       "    <tr>\n",
       "      <th>2</th>\n",
       "      <td>Lithuania</td>\n",
       "      <td>2019</td>\n",
       "      <td>Total</td>\n",
       "      <td>Both Sexes</td>\n",
       "      <td>0 - 4</td>\n",
       "      <td>Estimate - de jure</td>\n",
       "      <td>Final figure, complete</td>\n",
       "      <td>2020.0</td>\n",
       "      <td>147701.0</td>\n",
       "      <td>1.0</td>\n",
       "    </tr>\n",
       "    <tr>\n",
       "      <th>3</th>\n",
       "      <td>Lithuania</td>\n",
       "      <td>2019</td>\n",
       "      <td>Total</td>\n",
       "      <td>Both Sexes</td>\n",
       "      <td>1</td>\n",
       "      <td>Estimate - de jure</td>\n",
       "      <td>Final figure, complete</td>\n",
       "      <td>2020.0</td>\n",
       "      <td>28894.0</td>\n",
       "      <td>1.0</td>\n",
       "    </tr>\n",
       "    <tr>\n",
       "      <th>4</th>\n",
       "      <td>Lithuania</td>\n",
       "      <td>2019</td>\n",
       "      <td>Total</td>\n",
       "      <td>Both Sexes</td>\n",
       "      <td>1 - 4</td>\n",
       "      <td>Estimate - de jure</td>\n",
       "      <td>Final figure, complete</td>\n",
       "      <td>2020.0</td>\n",
       "      <td>119535.0</td>\n",
       "      <td>1.0</td>\n",
       "    </tr>\n",
       "  </tbody>\n",
       "</table>\n",
       "</div>"
      ],
      "text/plain": [
       "  Country or Area  Year   Area         Sex    Age         Record Type   \n",
       "0       Lithuania  2019  Total  Both Sexes  Total  Estimate - de jure  \\\n",
       "1       Lithuania  2019  Total  Both Sexes      0  Estimate - de jure   \n",
       "2       Lithuania  2019  Total  Both Sexes  0 - 4  Estimate - de jure   \n",
       "3       Lithuania  2019  Total  Both Sexes      1  Estimate - de jure   \n",
       "4       Lithuania  2019  Total  Both Sexes  1 - 4  Estimate - de jure   \n",
       "\n",
       "              Reliability  Source Year      Value  Value Footnotes  \n",
       "0  Final figure, complete       2020.0  2794184.0              1.0  \n",
       "1  Final figure, complete       2020.0    28166.0              1.0  \n",
       "2  Final figure, complete       2020.0   147701.0              1.0  \n",
       "3  Final figure, complete       2020.0    28894.0              1.0  \n",
       "4  Final figure, complete       2020.0   119535.0              1.0  "
      ]
     },
     "execution_count": 246,
     "metadata": {},
     "output_type": "execute_result"
    }
   ],
   "source": [
    "data = pd.read_excel('Litva.xls')\n",
    "data.head(5)"
   ]
  },
  {
   "cell_type": "code",
   "execution_count": 247,
   "metadata": {},
   "outputs": [
    {
     "name": "stdout",
     "output_type": "stream",
     "text": [
      "[18, 19, 20, 21, 22, 23, 24, 25, 26, 27, 28, 29, 30, 31, 32, 33, 34, 35, 36, 37, 38, 39, 40, 41, 42, 43, 44, 45, 46, 47, 48, 49, 50]\n"
     ]
    }
   ],
   "source": [
    "m = []\n",
    "for i in np.arange(18,51):\n",
    "    m.append(i)\n",
    "print(m)\n"
   ]
  },
  {
   "cell_type": "code",
   "execution_count": 248,
   "metadata": {},
   "outputs": [
    {
     "data": {
      "text/html": [
       "<div>\n",
       "<style scoped>\n",
       "    .dataframe tbody tr th:only-of-type {\n",
       "        vertical-align: middle;\n",
       "    }\n",
       "\n",
       "    .dataframe tbody tr th {\n",
       "        vertical-align: top;\n",
       "    }\n",
       "\n",
       "    .dataframe thead th {\n",
       "        text-align: right;\n",
       "    }\n",
       "</style>\n",
       "<table border=\"1\" class=\"dataframe\">\n",
       "  <thead>\n",
       "    <tr style=\"text-align: right;\">\n",
       "      <th></th>\n",
       "      <th>Age</th>\n",
       "      <th>Year</th>\n",
       "      <th>Value</th>\n",
       "    </tr>\n",
       "  </thead>\n",
       "  <tbody>\n",
       "    <tr>\n",
       "      <th>159</th>\n",
       "      <td>18</td>\n",
       "      <td>2019</td>\n",
       "      <td>14880.0</td>\n",
       "    </tr>\n",
       "    <tr>\n",
       "      <th>711</th>\n",
       "      <td>18</td>\n",
       "      <td>2018</td>\n",
       "      <td>16053.0</td>\n",
       "    </tr>\n",
       "    <tr>\n",
       "      <th>712</th>\n",
       "      <td>18</td>\n",
       "      <td>2018</td>\n",
       "      <td>15466.0</td>\n",
       "    </tr>\n",
       "    <tr>\n",
       "      <th>1630</th>\n",
       "      <td>18</td>\n",
       "      <td>2017</td>\n",
       "      <td>16393.0</td>\n",
       "    </tr>\n",
       "    <tr>\n",
       "      <th>1631</th>\n",
       "      <td>18</td>\n",
       "      <td>2017</td>\n",
       "      <td>16734.0</td>\n",
       "    </tr>\n",
       "  </tbody>\n",
       "</table>\n",
       "</div>"
      ],
      "text/plain": [
       "     Age  Year    Value\n",
       "159   18  2019  14880.0\n",
       "711   18  2018  16053.0\n",
       "712   18  2018  15466.0\n",
       "1630  18  2017  16393.0\n",
       "1631  18  2017  16734.0"
      ]
     },
     "execution_count": 248,
     "metadata": {},
     "output_type": "execute_result"
    }
   ],
   "source": [
    "\n",
    "data = data[['Year',  'Sex', 'Age', 'Value']]\n",
    "data = data[data['Sex'] == 'Male']\n",
    "\n",
    "data3 = pd.Series()\n",
    "for i in m:\n",
    "    s = data[data['Age'] == int(i)]\n",
    "    data3 = pd.concat([data3,s])\n",
    "\n",
    "data3 = data3[['Age', 'Year', 'Value']]\n",
    "data3.head()"
   ]
  },
  {
   "cell_type": "code",
   "execution_count": 249,
   "metadata": {},
   "outputs": [
    {
     "data": {
      "text/plain": [
       "(array([1985., 1990., 1995., 2000., 2005., 2010., 2015., 2020., 2025.]),\n",
       " [Text(1985.0, 0, '1985'),\n",
       "  Text(1990.0, 0, '1990'),\n",
       "  Text(1995.0, 0, '1995'),\n",
       "  Text(2000.0, 0, '2000'),\n",
       "  Text(2005.0, 0, '2005'),\n",
       "  Text(2010.0, 0, '2010'),\n",
       "  Text(2015.0, 0, '2015'),\n",
       "  Text(2020.0, 0, '2020'),\n",
       "  Text(2025.0, 0, '2025')])"
      ]
     },
     "execution_count": 249,
     "metadata": {},
     "output_type": "execute_result"
    },
    {
     "data": {
      "image/png": "[encoded data removed]",
      "text/plain": [
       "<Figure size 640x480 with 1 Axes>"
      ]
     },
     "metadata": {},
     "output_type": "display_data"
    }
   ],
   "source": [
    "data = data3.groupby(['Year'], as_index=False)['Value'].sum().reset_index()\n",
    "plt.ylabel('Численность')\n",
    "plt.xlabel('Год')\n",
    "plt.title('Численность мужского населения')\n",
    "plt.bar(x=data['Year'], height=data['Value'])\n",
    "plt.xticks(rotation=90)"
   ]
  },
  {
   "cell_type": "code",
   "execution_count": 250,
   "metadata": {},
   "outputs": [],
   "source": [
    "data = pd.read_excel('Litva.xls')\n"
   ]
  },
  {
   "cell_type": "code",
   "execution_count": 251,
   "metadata": {},
   "outputs": [
    {
     "data": {
      "text/html": [
       "<div>\n",
       "<style scoped>\n",
       "    .dataframe tbody tr th:only-of-type {\n",
       "        vertical-align: middle;\n",
       "    }\n",
       "\n",
       "    .dataframe tbody tr th {\n",
       "        vertical-align: top;\n",
       "    }\n",
       "\n",
       "    .dataframe thead th {\n",
       "        text-align: right;\n",
       "    }\n",
       "</style>\n",
       "<table border=\"1\" class=\"dataframe\">\n",
       "  <thead>\n",
       "    <tr style=\"text-align: right;\">\n",
       "      <th></th>\n",
       "      <th>0</th>\n",
       "      <th>Year</th>\n",
       "      <th>Sex</th>\n",
       "      <th>Age</th>\n",
       "      <th>Value</th>\n",
       "    </tr>\n",
       "  </thead>\n",
       "  <tbody>\n",
       "    <tr>\n",
       "      <th>24</th>\n",
       "      <td>NaN</td>\n",
       "      <td>2019</td>\n",
       "      <td>Both Sexes</td>\n",
       "      <td>18</td>\n",
       "      <td>28932.0</td>\n",
       "    </tr>\n",
       "    <tr>\n",
       "      <th>453</th>\n",
       "      <td>NaN</td>\n",
       "      <td>2018</td>\n",
       "      <td>Both Sexes</td>\n",
       "      <td>18</td>\n",
       "      <td>31212.0</td>\n",
       "    </tr>\n",
       "    <tr>\n",
       "      <th>454</th>\n",
       "      <td>NaN</td>\n",
       "      <td>2018</td>\n",
       "      <td>Both Sexes</td>\n",
       "      <td>18</td>\n",
       "      <td>30072.0</td>\n",
       "    </tr>\n",
       "    <tr>\n",
       "      <th>1371</th>\n",
       "      <td>NaN</td>\n",
       "      <td>2017</td>\n",
       "      <td>Both Sexes</td>\n",
       "      <td>18</td>\n",
       "      <td>32306.0</td>\n",
       "    </tr>\n",
       "    <tr>\n",
       "      <th>1372</th>\n",
       "      <td>NaN</td>\n",
       "      <td>2017</td>\n",
       "      <td>Both Sexes</td>\n",
       "      <td>18</td>\n",
       "      <td>31759.0</td>\n",
       "    </tr>\n",
       "  </tbody>\n",
       "</table>\n",
       "</div>"
      ],
      "text/plain": [
       "        0  Year         Sex Age    Value\n",
       "24    NaN  2019  Both Sexes  18  28932.0\n",
       "453   NaN  2018  Both Sexes  18  31212.0\n",
       "454   NaN  2018  Both Sexes  18  30072.0\n",
       "1371  NaN  2017  Both Sexes  18  32306.0\n",
       "1372  NaN  2017  Both Sexes  18  31759.0"
      ]
     },
     "execution_count": 251,
     "metadata": {},
     "output_type": "execute_result"
    }
   ],
   "source": [
    "data = data[['Year',  'Sex', 'Age', 'Value']]\n",
    "data = data[data['Sex'] == 'Both Sexes']\n",
    "data3 = pd.Series()\n",
    "for i in m:\n",
    "    s = data[data['Age'] == i]\n",
    "    data3 = pd.concat([data3,s])\n",
    "data3.head()"
   ]
  },
  {
   "cell_type": "code",
   "execution_count": 252,
   "metadata": {},
   "outputs": [
    {
     "data": {
      "text/plain": [
       "(array([2000., 2010., 2020., 2030., 2040., 2050., 2060., 2070., 2080.]),\n",
       " [Text(2000.0, 0, '2000'),\n",
       "  Text(2010.0, 0, '2010'),\n",
       "  Text(2020.0, 0, '2020'),\n",
       "  Text(2030.0, 0, '2030'),\n",
       "  Text(2040.0, 0, '2040'),\n",
       "  Text(2050.0, 0, '2050'),\n",
       "  Text(2060.0, 0, '2060'),\n",
       "  Text(2070.0, 0, '2070'),\n",
       "  Text(2080.0, 0, '2080')])"
      ]
     },
     "execution_count": 252,
     "metadata": {},
     "output_type": "execute_result"
    },
    {
     "data": {
      "image/png": "[encoded data removed]",
      "text/plain": [
       "<Figure size 640x480 with 1 Axes>"
      ]
     },
     "metadata": {},
     "output_type": "display_data"
    }
   ],
   "source": [
    "data = data3.groupby(['Year', 'Sex', 'Age'], as_index=False).agg({'Value': ['sum']})\n",
    "plt.ylabel('Численность')\n",
    "plt.xlabel('Год')\n",
    "plt.title('Численность всего населения')\n",
    "plt.bar(x=data3['Year']+data3['Age'], height=data3['Value'])\n",
    "plt.xticks(rotation=90)"
   ]
  },
  {
   "cell_type": "code",
   "execution_count": 253,
   "metadata": {},
   "outputs": [],
   "source": [
    "data = pd.read_excel('титаник.xls')\n"
   ]
  },
  {
   "cell_type": "code",
   "execution_count": 254,
   "metadata": {},
   "outputs": [
    {
     "data": {
      "image/png": "[encoded data removed]",
      "text/plain": [
       "<Figure size 640x480 with 1 Axes>"
      ]
     },
     "metadata": {},
     "output_type": "display_data"
    }
   ],
   "source": [
    "df = pd.DataFrame(data)\n",
    "df = df[df['Survived'] == 1]\n",
    "\n",
    "# Группируем данные по порту посадки и социально-экономическому статусу\n",
    "grouped_df = df.groupby(['Embarked', 'Pclass'])['Survived'].count().reset_index()\n",
    "\n",
    "# Построение гистограммы\n",
    "plt.bar(grouped_df['Embarked'] + grouped_df['Pclass'].astype(str), grouped_df['Survived'])\n",
    "plt.xlabel('Соц-эконом статус')\n",
    "plt.ylabel('Количество выживших')\n",
    "plt.title('Количество выживших в зависимости от соц-эконом статус')\n",
    "plt.xticks(rotation=45)\n",
    "plt.show()"
   ]
  }
 ],
 "metadata": {
  "kernelspec": {
   "display_name": "django_matplotlib",
   "language": "python",
   "name": "python3"
  },
  "language_info": {
   "codemirror_mode": {
    "name": "ipython",
    "version": 3
   },
   "file_extension": ".py",
   "mimetype": "text/x-python",
   "name": "python",
   "nbconvert_exporter": "python",
   "pygments_lexer": "ipython3",
   "version": "3.11.3"
  },
  "orig_nbformat": 4
 },
 "nbformat": 4,
 "nbformat_minor": 2
}
